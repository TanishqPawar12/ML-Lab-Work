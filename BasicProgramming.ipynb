{
  "nbformat": 4,
  "nbformat_minor": 0,
  "metadata": {
    "colab": {
      "provenance": []
    },
    "kernelspec": {
      "name": "python3",
      "display_name": "Python 3"
    },
    "language_info": {
      "name": "python"
    }
  },
  "cells": [
    {
      "cell_type": "markdown",
      "source": [
        "Table"
      ],
      "metadata": {
        "id": "GnFTHxPFkSbn"
      }
    },
    {
      "cell_type": "code",
      "source": [
        "n = int(input(\"enter a number\"))\n",
        "for i in range(1,11):\n",
        "  print(n,\"X\",i,\"=\",n*i)"
      ],
      "metadata": {
        "colab": {
          "base_uri": "https://localhost:8080/"
        },
        "id": "k6K6-IR1kg9R",
        "outputId": "79ded4f1-3480-4be6-8544-708b1d504b84"
      },
      "execution_count": 1,
      "outputs": [
        {
          "output_type": "stream",
          "name": "stdout",
          "text": [
            "enter a number6\n",
            "6 X 1 = 6\n",
            "6 X 2 = 12\n",
            "6 X 3 = 18\n",
            "6 X 4 = 24\n",
            "6 X 5 = 30\n",
            "6 X 6 = 36\n",
            "6 X 7 = 42\n",
            "6 X 8 = 48\n",
            "6 X 9 = 54\n",
            "6 X 10 = 60\n"
          ]
        }
      ]
    },
    {
      "cell_type": "markdown",
      "source": [
        "List\n"
      ],
      "metadata": {
        "id": "RPTAd3zhksY8"
      }
    },
    {
      "cell_type": "code",
      "source": [
        "l = [\"apple\",\"banana\",\"mango\"]\n",
        "newl=[]\n",
        "old=[]\n",
        "for i in l:\n",
        "  if 'a' in i:\n",
        "    newl.append(i)\n",
        "  else:\n",
        "    old.append(i)\n",
        "print(\"fruits are :\",l)\n",
        "print(\"new list :\",newl)\n",
        "print(\"old list :\",old)"
      ],
      "metadata": {
        "colab": {
          "base_uri": "https://localhost:8080/"
        },
        "id": "0HyQ5qnkktpt",
        "outputId": "f80d4bbd-3b4f-4819-bb00-a991d56987bf"
      },
      "execution_count": 2,
      "outputs": [
        {
          "output_type": "stream",
          "name": "stdout",
          "text": [
            "fruits are : ['apple', 'banana', 'mango']\n",
            "new list : ['apple', 'banana', 'mango']\n",
            "old list : []\n"
          ]
        }
      ]
    },
    {
      "cell_type": "markdown",
      "source": [
        "Tuple"
      ],
      "metadata": {
        "id": "ssZi7vVIkz8_"
      }
    },
    {
      "cell_type": "code",
      "source": [
        "number = (1,2,3,4)\n",
        "print(number[1:])\n",
        "print(number[::-1])\n",
        "print(number[2:4])"
      ],
      "metadata": {
        "colab": {
          "base_uri": "https://localhost:8080/"
        },
        "id": "FxVTBFEtk1UH",
        "outputId": "6e914afd-b45c-4692-817a-6bbb5d46740c"
      },
      "execution_count": 3,
      "outputs": [
        {
          "output_type": "stream",
          "name": "stdout",
          "text": [
            "(2, 3, 4)\n",
            "(4, 3, 2, 1)\n",
            "(3, 4)\n"
          ]
        }
      ]
    },
    {
      "cell_type": "markdown",
      "source": [
        "String"
      ],
      "metadata": {
        "id": "MN7iCDy-k5Dn"
      }
    },
    {
      "cell_type": "code",
      "source": [
        "str = \"Tanishq \"\n",
        "print(\"previous string \",str)\n",
        "\n",
        "str1=list(str)\n",
        "str1=str[2:4]\n",
        "print(str1)"
      ],
      "metadata": {
        "colab": {
          "base_uri": "https://localhost:8080/"
        },
        "id": "wCy6gI6ok7Sk",
        "outputId": "8691ba6b-c232-4697-b954-0647f46d5c1f"
      },
      "execution_count": 5,
      "outputs": [
        {
          "output_type": "stream",
          "name": "stdout",
          "text": [
            "previous string  Tanishq \n",
            "ni\n"
          ]
        }
      ]
    },
    {
      "cell_type": "markdown",
      "source": [
        "Function"
      ],
      "metadata": {
        "id": "avH2EyoPlSK6"
      }
    },
    {
      "cell_type": "code",
      "source": [
        "def fun1(name):\n",
        "  return name.lower()\n",
        "\n",
        "def printing(call):\n",
        "  greet = call(\"TANISHQ\")\n",
        "  print(greet)\n",
        "\n",
        "\n",
        "printing(fun1)"
      ],
      "metadata": {
        "colab": {
          "base_uri": "https://localhost:8080/"
        },
        "id": "n6KNuZN4lTd0",
        "outputId": "7ed734b4-da8b-4343-ec63-befad73944cb"
      },
      "execution_count": 6,
      "outputs": [
        {
          "output_type": "stream",
          "name": "stdout",
          "text": [
            "tanishq\n"
          ]
        }
      ]
    },
    {
      "cell_type": "markdown",
      "source": [
        "Python classes and objects"
      ],
      "metadata": {
        "id": "_PA4yuVHlZK-"
      }
    },
    {
      "cell_type": "code",
      "source": [
        "class Animal:\n",
        "  category = \"animal\"\n",
        "  def __init__(self,category2,name):\n",
        "    self.category2 = category2;\n",
        "    self.name = name;\n",
        "\n",
        "Bob = Animal(\"dog\",\"bob\")\n",
        "husk = Animal(\"fox\",\"husk\")\n",
        "\n",
        "print(\"bob is a \"+Bob.category)\n",
        "print(\"specific \"+Bob.category2)\n",
        "print(\"name \"+Bob.name)"
      ],
      "metadata": {
        "colab": {
          "base_uri": "https://localhost:8080/"
        },
        "id": "-CuVI7AulaeL",
        "outputId": "96ce29bc-21d3-4f77-af7e-af635eadc89f"
      },
      "execution_count": 7,
      "outputs": [
        {
          "output_type": "stream",
          "name": "stdout",
          "text": [
            "bob is a animal\n",
            "specific dog\n",
            "name bob\n"
          ]
        }
      ]
    },
    {
      "cell_type": "markdown",
      "source": [
        "Pandas example"
      ],
      "metadata": {
        "id": "rqjoJW0plh09"
      }
    },
    {
      "cell_type": "code",
      "source": [
        "import pandas as pd\n",
        "dict = {'name':[\"Smith\", \"William\", \"Phill\", \"Parker\"],\n",
        "        'age': [\"28\", \"39\", \"34\", \"36\"]}\n",
        "info = pd.DataFrame(dict, index = [True, True, False, True])\n",
        "print(info)"
      ],
      "metadata": {
        "colab": {
          "base_uri": "https://localhost:8080/"
        },
        "id": "kcTFKYf-lilz",
        "outputId": "7a633e57-924a-4fae-bb08-e460688c7fbb"
      },
      "execution_count": 8,
      "outputs": [
        {
          "output_type": "stream",
          "name": "stdout",
          "text": [
            "          name age\n",
            "True     Smith  28\n",
            "True   William  39\n",
            "False    Phill  34\n",
            "True    Parker  36\n"
          ]
        }
      ]
    },
    {
      "cell_type": "markdown",
      "source": [
        "\n",
        "Numpy examples"
      ],
      "metadata": {
        "id": "9gtS0EqLlns-"
      }
    },
    {
      "cell_type": "code",
      "source": [
        "import numpy as np\n",
        "\n",
        "arr = np.array( [[ 1, 2, 3],\n",
        "\t\t\t\t[ 4, 2, 5]] )\n",
        "\n",
        "print(\"Array is of type: \", type(arr))\n",
        "\n",
        "print(\"No. of dimensions: \", arr.ndim)\n",
        "\n",
        "print(\"Shape of array: \", arr.shape)\n",
        "\n",
        "print(\"Size of array: \", arr.size)\n",
        "\n",
        "print(\"Array stores elements of type: \", arr.dtype)"
      ],
      "metadata": {
        "colab": {
          "base_uri": "https://localhost:8080/"
        },
        "id": "HZLTg6QZloTO",
        "outputId": "1eca1ed1-d32c-4573-bec7-a15bf41c7e3b"
      },
      "execution_count": 9,
      "outputs": [
        {
          "output_type": "stream",
          "name": "stdout",
          "text": [
            "Array is of type:  <class 'numpy.ndarray'>\n",
            "No. of dimensions:  2\n",
            "Shape of array:  (2, 3)\n",
            "Size of array:  6\n",
            "Array stores elements of type:  int64\n"
          ]
        }
      ]
    },
    {
      "cell_type": "markdown",
      "source": [
        "\n",
        "Matplotlib example"
      ],
      "metadata": {
        "id": "S9NEUsmaltAF"
      }
    },
    {
      "cell_type": "code",
      "source": [
        "import matplotlib.pyplot as plt\n",
        "import numpy as np\n",
        "\n",
        "xpoints = np.array([1, 9])\n",
        "ypoints = np.array([3, 10])\n",
        "\n",
        "plt.plot(xpoints, ypoints)\n",
        "plt.show()"
      ],
      "metadata": {
        "colab": {
          "base_uri": "https://localhost:8080/",
          "height": 430
        },
        "id": "2WxCvOLklt8K",
        "outputId": "1d0ba099-627b-488f-f995-e35d22fa4cba"
      },
      "execution_count": 10,
      "outputs": [
        {
          "output_type": "display_data",
          "data": {
            "text/plain": [
              "<Figure size 640x480 with 1 Axes>"
            ],
            "image/png": "[encoded data removed]"
          },
          "metadata": {}
        }
      ]
    }
  ]
}